{
 "cells": [
  {
   "cell_type": "code",
   "execution_count": 184,
   "metadata": {},
   "outputs": [],
   "source": [
    "import pandas as pd\n",
    "import numpy as np\n",
    "import matplotlib.pyplot as plt\n",
    "\n",
    "from collections import namedtuple\n",
    "Dataset = namedtuple(\"Dataset\", \"data target\")\n",
    "\n",
    "from collections import defaultdict\n",
    "from sklearn import metrics\n",
    "from sklearn.model_selection import GridSearchCV, train_test_split, cross_validate, cross_val_predict\n",
    "\n",
    "from sklearn.linear_model import (ARDRegression, BayesianRidge, ElasticNet, ElasticNetCV, HuberRegressor, Lars, LarsCV,\n",
    "                                  Lasso, LassoCV, LassoLars, LassoLarsCV, LassoLarsIC, LinearRegression,\n",
    "                                  MultiTaskElasticNet, MultiTaskElasticNetCV, MultiTaskLasso, MultiTaskLassoCV,\n",
    "                                  OrthogonalMatchingPursuit, OrthogonalMatchingPursuitCV, PassiveAggressiveRegressor,\n",
    "                                  RANSACRegressor, Ridge, RidgeCV, SGDRegressor, TheilSenRegressor)\n",
    "\n",
    "from sklearn.ensemble import (AdaBoostRegressor, BaggingRegressor, ExtraTreesRegressor, RandomForestRegressor)\n",
    "from sklearn.cross_decomposition import (CCA, PLSCanonical, PLSRegression)\n",
    "from sklearn.tree import (DecisionTreeRegressor, ExtraTreeRegressor)\n",
    "from sklearn.gaussian_process import (GaussianProcessRegressor)\n",
    "from sklearn.neighbors import (KNeighborsRegressor, RadiusNeighborsRegressor)\n",
    "from sklearn.kernel_ridge import KernelRidge\n",
    "from sklearn.svm import (LinearSVR, NuSVR, SVR)\n",
    "\n",
    "def RMSE(actual,predicted):\n",
    "    return np.sqrt(metrics.mean_squared_error(np.nan_to_num(np.log1p(actual)), np.nan_to_num(np.log1p(predicted))))"
   ]
  },
  {
   "cell_type": "code",
   "execution_count": 2,
   "metadata": {},
   "outputs": [],
   "source": [
    "IN_TRAIN = 'in/train-wrangled.csv'"
   ]
  },
  {
   "cell_type": "code",
   "execution_count": 3,
   "metadata": {},
   "outputs": [],
   "source": [
    "%%time\n",
    "dataframe = pd.read_csv(IN_TRAIN, dtype={'fullVisitorId': 'str'}, low_memory=False)"
   ]
  },
  {
   "cell_type": "code",
   "execution_count": 103,
   "metadata": {
    "scrolled": true
   },
   "outputs": [
    {
     "name": "stdout",
     "output_type": "stream",
     "text": [
      "Number of unique users: 714167\n"
     ]
    }
   ],
   "source": [
    "print(\"Number of unique users: {}\".format(len(dataframe)))"
   ]
  },
  {
   "cell_type": "code",
   "execution_count": 217,
   "metadata": {
    "scrolled": true
   },
   "outputs": [],
   "source": [
    "# train_df, _ = train_test_split(dataframe, train_size=10000, shuffle=True, random_state=42)\n",
    "train_df = dataframe"
   ]
  },
  {
   "cell_type": "code",
   "execution_count": 218,
   "metadata": {},
   "outputs": [
    {
     "data": {
      "text/html": [
       "<div>\n",
       "<style scoped>\n",
       "    .dataframe tbody tr th:only-of-type {\n",
       "        vertical-align: middle;\n",
       "    }\n",
       "\n",
       "    .dataframe tbody tr th {\n",
       "        vertical-align: top;\n",
       "    }\n",
       "\n",
       "    .dataframe thead th {\n",
       "        text-align: right;\n",
       "    }\n",
       "</style>\n",
       "<table border=\"1\" class=\"dataframe\">\n",
       "  <thead>\n",
       "    <tr style=\"text-align: right;\">\n",
       "      <th></th>\n",
       "      <th>date</th>\n",
       "      <th>visitNumber</th>\n",
       "      <th>device.isMobile</th>\n",
       "      <th>totals.bounces</th>\n",
       "      <th>totals.hits</th>\n",
       "      <th>totals.newVisits</th>\n",
       "      <th>totals.pageviews</th>\n",
       "      <th>totals.visits</th>\n",
       "      <th>trafficSource.adwordsClickInfo.isVideoAd</th>\n",
       "      <th>trafficSource.isTrueDirect</th>\n",
       "      <th>...</th>\n",
       "      <th>geoNetwork.subContinent Western Asia</th>\n",
       "      <th>geoNetwork.subContinent Western Europe</th>\n",
       "      <th>trafficSource.source (direct)</th>\n",
       "      <th>trafficSource.source Other</th>\n",
       "      <th>trafficSource.source Partners</th>\n",
       "      <th>trafficSource.source analytics.google.com</th>\n",
       "      <th>trafficSource.source google</th>\n",
       "      <th>trafficSource.source mall.googleplex.com</th>\n",
       "      <th>trafficSource.source youtube.com</th>\n",
       "      <th>totals.transactionRevenue</th>\n",
       "    </tr>\n",
       "  </thead>\n",
       "  <tbody>\n",
       "    <tr>\n",
       "      <th>0</th>\n",
       "      <td>0.0219</td>\n",
       "      <td>0.000000</td>\n",
       "      <td>0</td>\n",
       "      <td>0.0</td>\n",
       "      <td>0.020040</td>\n",
       "      <td>0.333333</td>\n",
       "      <td>0.001923</td>\n",
       "      <td>0.00000</td>\n",
       "      <td>0</td>\n",
       "      <td>0</td>\n",
       "      <td>...</td>\n",
       "      <td>0</td>\n",
       "      <td>0</td>\n",
       "      <td>0</td>\n",
       "      <td>0</td>\n",
       "      <td>0</td>\n",
       "      <td>0</td>\n",
       "      <td>1</td>\n",
       "      <td>0</td>\n",
       "      <td>0</td>\n",
       "      <td>0.0</td>\n",
       "    </tr>\n",
       "    <tr>\n",
       "      <th>1</th>\n",
       "      <td>0.0329</td>\n",
       "      <td>0.000000</td>\n",
       "      <td>0</td>\n",
       "      <td>0.0</td>\n",
       "      <td>0.032064</td>\n",
       "      <td>0.333333</td>\n",
       "      <td>0.003125</td>\n",
       "      <td>0.00000</td>\n",
       "      <td>0</td>\n",
       "      <td>0</td>\n",
       "      <td>...</td>\n",
       "      <td>0</td>\n",
       "      <td>0</td>\n",
       "      <td>0</td>\n",
       "      <td>0</td>\n",
       "      <td>0</td>\n",
       "      <td>0</td>\n",
       "      <td>1</td>\n",
       "      <td>0</td>\n",
       "      <td>0</td>\n",
       "      <td>0.0</td>\n",
       "    </tr>\n",
       "    <tr>\n",
       "      <th>2</th>\n",
       "      <td>0.9410</td>\n",
       "      <td>0.000000</td>\n",
       "      <td>0</td>\n",
       "      <td>0.0</td>\n",
       "      <td>0.010020</td>\n",
       "      <td>0.333333</td>\n",
       "      <td>0.001202</td>\n",
       "      <td>0.00000</td>\n",
       "      <td>0</td>\n",
       "      <td>0</td>\n",
       "      <td>...</td>\n",
       "      <td>0</td>\n",
       "      <td>0</td>\n",
       "      <td>0</td>\n",
       "      <td>0</td>\n",
       "      <td>0</td>\n",
       "      <td>0</td>\n",
       "      <td>1</td>\n",
       "      <td>0</td>\n",
       "      <td>0</td>\n",
       "      <td>0.0</td>\n",
       "    </tr>\n",
       "    <tr>\n",
       "      <th>3</th>\n",
       "      <td>0.9526</td>\n",
       "      <td>0.000000</td>\n",
       "      <td>0</td>\n",
       "      <td>0.0</td>\n",
       "      <td>0.002004</td>\n",
       "      <td>0.333333</td>\n",
       "      <td>0.000481</td>\n",
       "      <td>0.00000</td>\n",
       "      <td>0</td>\n",
       "      <td>0</td>\n",
       "      <td>...</td>\n",
       "      <td>0</td>\n",
       "      <td>0</td>\n",
       "      <td>0</td>\n",
       "      <td>0</td>\n",
       "      <td>0</td>\n",
       "      <td>0</td>\n",
       "      <td>0</td>\n",
       "      <td>0</td>\n",
       "      <td>1</td>\n",
       "      <td>0.0</td>\n",
       "    </tr>\n",
       "    <tr>\n",
       "      <th>4</th>\n",
       "      <td>0.9410</td>\n",
       "      <td>0.000032</td>\n",
       "      <td>0</td>\n",
       "      <td>0.0</td>\n",
       "      <td>0.002004</td>\n",
       "      <td>0.333333</td>\n",
       "      <td>0.001202</td>\n",
       "      <td>0.00361</td>\n",
       "      <td>0</td>\n",
       "      <td>0</td>\n",
       "      <td>...</td>\n",
       "      <td>0</td>\n",
       "      <td>0</td>\n",
       "      <td>0</td>\n",
       "      <td>0</td>\n",
       "      <td>0</td>\n",
       "      <td>0</td>\n",
       "      <td>1</td>\n",
       "      <td>0</td>\n",
       "      <td>0</td>\n",
       "      <td>0.0</td>\n",
       "    </tr>\n",
       "  </tbody>\n",
       "</table>\n",
       "<p>5 rows × 163 columns</p>\n",
       "</div>"
      ],
      "text/plain": [
       "     date  visitNumber  device.isMobile  totals.bounces  totals.hits  \\\n",
       "0  0.0219     0.000000                0             0.0     0.020040   \n",
       "1  0.0329     0.000000                0             0.0     0.032064   \n",
       "2  0.9410     0.000000                0             0.0     0.010020   \n",
       "3  0.9526     0.000000                0             0.0     0.002004   \n",
       "4  0.9410     0.000032                0             0.0     0.002004   \n",
       "\n",
       "   totals.newVisits  totals.pageviews  totals.visits  \\\n",
       "0          0.333333          0.001923        0.00000   \n",
       "1          0.333333          0.003125        0.00000   \n",
       "2          0.333333          0.001202        0.00000   \n",
       "3          0.333333          0.000481        0.00000   \n",
       "4          0.333333          0.001202        0.00361   \n",
       "\n",
       "   trafficSource.adwordsClickInfo.isVideoAd  trafficSource.isTrueDirect  \\\n",
       "0                                         0                           0   \n",
       "1                                         0                           0   \n",
       "2                                         0                           0   \n",
       "3                                         0                           0   \n",
       "4                                         0                           0   \n",
       "\n",
       "             ...              geoNetwork.subContinent Western Asia  \\\n",
       "0            ...                                                 0   \n",
       "1            ...                                                 0   \n",
       "2            ...                                                 0   \n",
       "3            ...                                                 0   \n",
       "4            ...                                                 0   \n",
       "\n",
       "   geoNetwork.subContinent Western Europe  trafficSource.source (direct)  \\\n",
       "0                                       0                              0   \n",
       "1                                       0                              0   \n",
       "2                                       0                              0   \n",
       "3                                       0                              0   \n",
       "4                                       0                              0   \n",
       "\n",
       "   trafficSource.source Other  trafficSource.source Partners  \\\n",
       "0                           0                              0   \n",
       "1                           0                              0   \n",
       "2                           0                              0   \n",
       "3                           0                              0   \n",
       "4                           0                              0   \n",
       "\n",
       "   trafficSource.source analytics.google.com  trafficSource.source google  \\\n",
       "0                                          0                            1   \n",
       "1                                          0                            1   \n",
       "2                                          0                            1   \n",
       "3                                          0                            0   \n",
       "4                                          0                            1   \n",
       "\n",
       "   trafficSource.source mall.googleplex.com  trafficSource.source youtube.com  \\\n",
       "0                                         0                                 0   \n",
       "1                                         0                                 0   \n",
       "2                                         0                                 0   \n",
       "3                                         0                                 1   \n",
       "4                                         0                                 0   \n",
       "\n",
       "   totals.transactionRevenue  \n",
       "0                        0.0  \n",
       "1                        0.0  \n",
       "2                        0.0  \n",
       "3                        0.0  \n",
       "4                        0.0  \n",
       "\n",
       "[5 rows x 163 columns]"
      ]
     },
     "execution_count": 218,
     "metadata": {},
     "output_type": "execute_result"
    }
   ],
   "source": [
    "train_df = train_df.drop(columns=[\"fullVisitorId\", \"sessionId\", \"visitId\", \"visitStartTime\"])\n",
    "train_df = train_df.fillna(0)\n",
    "train_df.head()"
   ]
  },
  {
   "cell_type": "code",
   "execution_count": 219,
   "metadata": {},
   "outputs": [],
   "source": [
    "def load_csv_dataset(df):\n",
    "    target = df[\"totals.transactionRevenue\"].values\n",
    "    data = df.drop(columns=\"totals.transactionRevenue\").values\n",
    "    return Dataset(data=data, target=target)\n",
    "dataset = load_csv_dataset(train_df)"
   ]
  },
  {
   "cell_type": "code",
   "execution_count": 201,
   "metadata": {
    "scrolled": true
   },
   "outputs": [],
   "source": [
    "g_params = { \"l1_ratio\": [0, 0.2, 0.5, 0.8, 1], \"fit_intercept\":[True], \"normalize\":[False], \"selection\": [\"random\"]}\n",
    "\n",
    "estimator = ElasticNet()"
   ]
  },
  {
   "cell_type": "code",
   "execution_count": 165,
   "metadata": {},
   "outputs": [],
   "source": [
    "g_params = {\"epsilon\": [0.3], \"C\":[1.2], \"loss\": [\"epsilon_insensitive\",\"squared_epsilon_insensitive\"], \"fit_intercept\":[True]}\n",
    "\n",
    "estimator = LinearSVR()"
   ]
  },
  {
   "cell_type": "code",
   "execution_count": 220,
   "metadata": {},
   "outputs": [],
   "source": [
    "# LinearSVR\n",
    "estimator = LinearSVR(epsilon=0.3, C=1.2, loss=\"epsilon_insensitive\", fit_intercept=True)"
   ]
  },
  {
   "cell_type": "code",
   "execution_count": 202,
   "metadata": {
    "scrolled": true
   },
   "outputs": [
    {
     "name": "stderr",
     "output_type": "stream",
     "text": [
      "/home/eugenius/.local/share/virtualenvs/scikit-XsFrGcKX/lib/python3.5/site-packages/sklearn/linear_model/coordinate_descent.py:491: ConvergenceWarning: Objective did not converge. You might want to increase the number of iterations. Fitting data with very small alpha may cause precision problems.\n",
      "  ConvergenceWarning)\n",
      "/home/eugenius/.local/share/virtualenvs/scikit-XsFrGcKX/lib/python3.5/site-packages/ipykernel_launcher.py:27: RuntimeWarning: invalid value encountered in log1p\n",
      "/home/eugenius/.local/share/virtualenvs/scikit-XsFrGcKX/lib/python3.5/site-packages/sklearn/linear_model/coordinate_descent.py:491: ConvergenceWarning: Objective did not converge. You might want to increase the number of iterations. Fitting data with very small alpha may cause precision problems.\n",
      "  ConvergenceWarning)\n",
      "/home/eugenius/.local/share/virtualenvs/scikit-XsFrGcKX/lib/python3.5/site-packages/ipykernel_launcher.py:27: RuntimeWarning: invalid value encountered in log1p\n",
      "/home/eugenius/.local/share/virtualenvs/scikit-XsFrGcKX/lib/python3.5/site-packages/sklearn/linear_model/coordinate_descent.py:491: ConvergenceWarning: Objective did not converge. You might want to increase the number of iterations. Fitting data with very small alpha may cause precision problems.\n",
      "  ConvergenceWarning)\n",
      "/home/eugenius/.local/share/virtualenvs/scikit-XsFrGcKX/lib/python3.5/site-packages/ipykernel_launcher.py:27: RuntimeWarning: invalid value encountered in log1p\n",
      "/home/eugenius/.local/share/virtualenvs/scikit-XsFrGcKX/lib/python3.5/site-packages/ipykernel_launcher.py:27: RuntimeWarning: invalid value encountered in log1p\n",
      "/home/eugenius/.local/share/virtualenvs/scikit-XsFrGcKX/lib/python3.5/site-packages/ipykernel_launcher.py:27: RuntimeWarning: invalid value encountered in log1p\n",
      "/home/eugenius/.local/share/virtualenvs/scikit-XsFrGcKX/lib/python3.5/site-packages/ipykernel_launcher.py:27: RuntimeWarning: invalid value encountered in log1p\n",
      "/home/eugenius/.local/share/virtualenvs/scikit-XsFrGcKX/lib/python3.5/site-packages/ipykernel_launcher.py:27: RuntimeWarning: invalid value encountered in log1p\n",
      "/home/eugenius/.local/share/virtualenvs/scikit-XsFrGcKX/lib/python3.5/site-packages/ipykernel_launcher.py:27: RuntimeWarning: invalid value encountered in log1p\n",
      "/home/eugenius/.local/share/virtualenvs/scikit-XsFrGcKX/lib/python3.5/site-packages/ipykernel_launcher.py:27: RuntimeWarning: invalid value encountered in log1p\n",
      "/home/eugenius/.local/share/virtualenvs/scikit-XsFrGcKX/lib/python3.5/site-packages/ipykernel_launcher.py:27: RuntimeWarning: invalid value encountered in log1p\n",
      "/home/eugenius/.local/share/virtualenvs/scikit-XsFrGcKX/lib/python3.5/site-packages/ipykernel_launcher.py:27: RuntimeWarning: invalid value encountered in log1p\n",
      "/home/eugenius/.local/share/virtualenvs/scikit-XsFrGcKX/lib/python3.5/site-packages/ipykernel_launcher.py:27: RuntimeWarning: invalid value encountered in log1p\n",
      "/home/eugenius/.local/share/virtualenvs/scikit-XsFrGcKX/lib/python3.5/site-packages/sklearn/linear_model/coordinate_descent.py:491: ConvergenceWarning: Objective did not converge. You might want to increase the number of iterations. Fitting data with very small alpha may cause precision problems.\n",
      "  ConvergenceWarning)\n",
      "/home/eugenius/.local/share/virtualenvs/scikit-XsFrGcKX/lib/python3.5/site-packages/ipykernel_launcher.py:27: RuntimeWarning: invalid value encountered in log1p\n",
      "/home/eugenius/.local/share/virtualenvs/scikit-XsFrGcKX/lib/python3.5/site-packages/sklearn/linear_model/coordinate_descent.py:491: ConvergenceWarning: Objective did not converge. You might want to increase the number of iterations. Fitting data with very small alpha may cause precision problems.\n",
      "  ConvergenceWarning)\n",
      "/home/eugenius/.local/share/virtualenvs/scikit-XsFrGcKX/lib/python3.5/site-packages/ipykernel_launcher.py:27: RuntimeWarning: invalid value encountered in log1p\n",
      "/home/eugenius/.local/share/virtualenvs/scikit-XsFrGcKX/lib/python3.5/site-packages/sklearn/linear_model/coordinate_descent.py:491: ConvergenceWarning: Objective did not converge. You might want to increase the number of iterations. Fitting data with very small alpha may cause precision problems.\n",
      "  ConvergenceWarning)\n",
      "/home/eugenius/.local/share/virtualenvs/scikit-XsFrGcKX/lib/python3.5/site-packages/ipykernel_launcher.py:27: RuntimeWarning: invalid value encountered in log1p\n"
     ]
    },
    {
     "name": "stdout",
     "output_type": "stream",
     "text": [
      "CPU times: user 31.8 s, sys: 3.33 s, total: 35.1 s\n",
      "Wall time: 30.6 s\n"
     ]
    },
    {
     "name": "stderr",
     "output_type": "stream",
     "text": [
      "/home/eugenius/.local/share/virtualenvs/scikit-XsFrGcKX/lib/python3.5/site-packages/sklearn/linear_model/coordinate_descent.py:491: ConvergenceWarning: Objective did not converge. You might want to increase the number of iterations. Fitting data with very small alpha may cause precision problems.\n",
      "  ConvergenceWarning)\n"
     ]
    }
   ],
   "source": [
    "%%time\n",
    "scorer = metrics.make_scorer(RMSE, greater_is_better=False)\n",
    "\n",
    "gs = GridSearchCV(estimator, g_params, scoring=scorer)\n",
    "gs.fit(dataset.data, dataset.target)"
   ]
  },
  {
   "cell_type": "code",
   "execution_count": 167,
   "metadata": {
    "scrolled": true
   },
   "outputs": [
    {
     "data": {
      "text/plain": [
       "(-2.228336434572849,\n",
       " {'C': 1.2,\n",
       "  'epsilon': 0.3,\n",
       "  'fit_intercept': True,\n",
       "  'loss': 'epsilon_insensitive'})"
      ]
     },
     "execution_count": 167,
     "metadata": {},
     "output_type": "execute_result"
    }
   ],
   "source": [
    "gs.best_score_, gs.best_params_"
   ]
  },
  {
   "cell_type": "code",
   "execution_count": 221,
   "metadata": {
    "scrolled": true
   },
   "outputs": [
    {
     "name": "stdout",
     "output_type": "stream",
     "text": [
      "CPU times: user 5.16 s, sys: 3.52 s, total: 8.68 s\n",
      "Wall time: 10.8 s\n"
     ]
    }
   ],
   "source": [
    "%%time\n",
    "# estimator.fit(X, y)\n",
    "# results = estimator.predict(dataset.data)\n",
    "\n",
    "results = cross_val_predict(estimator, dataset.data, dataset.target)\n",
    "\n",
    "# results = cross_val_predict(estimator, X, y)\n",
    "\n",
    "# results = cross_val_predict(gs, dataset.data, dataset.target)"
   ]
  },
  {
   "cell_type": "code",
   "execution_count": 223,
   "metadata": {
    "scrolled": true
   },
   "outputs": [
    {
     "data": {
      "text/plain": [
       "0.12948298417176582"
      ]
     },
     "execution_count": 223,
     "metadata": {},
     "output_type": "execute_result"
    }
   ],
   "source": [
    "results[results < 0] = 0\n",
    "np.mean(results)"
   ]
  },
  {
   "cell_type": "code",
   "execution_count": 224,
   "metadata": {},
   "outputs": [
    {
     "data": {
      "text/plain": [
       "2.0657187696129196"
      ]
     },
     "execution_count": 224,
     "metadata": {},
     "output_type": "execute_result"
    }
   ],
   "source": [
    "RMSE(dataset.target, results)"
   ]
  },
  {
   "cell_type": "code",
   "execution_count": 180,
   "metadata": {},
   "outputs": [
    {
     "data": {
      "text/plain": [
       "(0.0, 0.9842)"
      ]
     },
     "execution_count": 180,
     "metadata": {},
     "output_type": "execute_result"
    }
   ],
   "source": [
    "len(results[results==0])/len(results), len(dataset.target[dataset.target==0])/len(dataset.target)"
   ]
  },
  {
   "cell_type": "code",
   "execution_count": 14,
   "metadata": {},
   "outputs": [
    {
     "data": {
      "text/plain": [
       "array(['date', 'visitNumber', 'totals.pageviews',\n",
       "       'geoNetwork.city not available in demo dataset',\n",
       "       'geoNetwork.country Canada'], dtype='<U46')"
      ]
     },
     "execution_count": 14,
     "metadata": {},
     "output_type": "execute_result"
    }
   ],
   "source": [
    "estimator.fit(dataset.data, dataset.target)\n",
    "importances = estimator.feature_importances_\n",
    "feature_names = np.array(list(train_df)[:-1])\n",
    "feature_names[importances > 0.05]"
   ]
  },
  {
   "cell_type": "code",
   "execution_count": 15,
   "metadata": {},
   "outputs": [
    {
     "ename": "NameError",
     "evalue": "name 'X' is not defined",
     "output_type": "error",
     "traceback": [
      "\u001b[0;31m---------------------------------------------------------------------------\u001b[0m",
      "\u001b[0;31mNameError\u001b[0m                                 Traceback (most recent call last)",
      "\u001b[0;32m<ipython-input-15-9e8508b874e7>\u001b[0m in \u001b[0;36m<module>\u001b[0;34m\u001b[0m\n\u001b[0;32m----> 1\u001b[0;31m \u001b[0mestimator\u001b[0m\u001b[0;34m.\u001b[0m\u001b[0mfit\u001b[0m\u001b[0;34m(\u001b[0m\u001b[0mX\u001b[0m\u001b[0;34m,\u001b[0m \u001b[0my\u001b[0m\u001b[0;34m)\u001b[0m\u001b[0;34m\u001b[0m\u001b[0m\n\u001b[0m\u001b[1;32m      2\u001b[0m \u001b[0mimportances\u001b[0m \u001b[0;34m=\u001b[0m \u001b[0mestimator\u001b[0m\u001b[0;34m.\u001b[0m\u001b[0mfeature_importances_\u001b[0m\u001b[0;34m\u001b[0m\u001b[0m\n\u001b[1;32m      3\u001b[0m \u001b[0mimportances\u001b[0m\u001b[0;34m\u001b[0m\u001b[0m\n",
      "\u001b[0;31mNameError\u001b[0m: name 'X' is not defined"
     ]
    }
   ],
   "source": [
    "estimator.fit(X, y)\n",
    "importances = estimator.feature_importances_\n",
    "importances"
   ]
  },
  {
   "cell_type": "code",
   "execution_count": 182,
   "metadata": {},
   "outputs": [
    {
     "name": "stdout",
     "output_type": "stream",
     "text": [
      "2972 [-0.09997882 -0.09994522 -0.09994063 ...  0.09993195  0.09995387\n",
      "  0.09999627]\n"
     ]
    },
    {
     "data": {
      "text/plain": [
       "array([-0.09997882, -0.09994522, -0.09994063, ...,  0.09993195,\n",
       "        0.09995387,  0.09999627])"
      ]
     },
     "execution_count": 182,
     "metadata": {},
     "output_type": "execute_result"
    }
   ],
   "source": [
    "f = results[ np.abs(results - dataset.target)/ (dataset.target+1) < 0.1 ]\n",
    "print(len(f), np.unique(f))\n",
    "np.unique(f)"
   ]
  },
  {
   "cell_type": "code",
   "execution_count": null,
   "metadata": {},
   "outputs": [],
   "source": []
  }
 ],
 "metadata": {
  "kernelspec": {
   "display_name": "Python 3",
   "language": "python",
   "name": "python3"
  },
  "language_info": {
   "codemirror_mode": {
    "name": "ipython",
    "version": 3
   },
   "file_extension": ".py",
   "mimetype": "text/x-python",
   "name": "python",
   "nbconvert_exporter": "python",
   "pygments_lexer": "ipython3",
   "version": "3.5.3"
  }
 },
 "nbformat": 4,
 "nbformat_minor": 2
}
